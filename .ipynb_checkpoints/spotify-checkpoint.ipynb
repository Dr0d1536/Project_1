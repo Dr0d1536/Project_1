{
 "cells": [
  {
   "cell_type": "code",
   "execution_count": null,
   "id": "3389f3a6-cd40-4486-a86d-2d02131fa7b1",
   "metadata": {},
   "outputs": [],
   "source": [
    "# Dependencies and Setup\n",
    "import matplotlib.pyplot as plt\n",
    "import pandas as pd\n",
    "import scipy.stats as st\n",
    "\n",
    "#Study files\n",
    "music_norm_path = \"ProjectData/songs_normalize.csv\"\n",
    "\n",
    "music_norm = pd.read_csv(music_norm_path)"
   ]
  }
 ],
 "metadata": {
  "kernelspec": {
   "display_name": "Python 3 (ipykernel)",
   "language": "python",
   "name": "python3"
  },
  "language_info": {
   "codemirror_mode": {
    "name": "ipython",
    "version": 3
   },
   "file_extension": ".py",
   "mimetype": "text/x-python",
   "name": "python",
   "nbconvert_exporter": "python",
   "pygments_lexer": "ipython3",
   "version": "3.9.15"
  }
 },
 "nbformat": 4,
 "nbformat_minor": 5
}
